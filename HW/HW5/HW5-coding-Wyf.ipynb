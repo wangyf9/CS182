{
 "cells": [
  {
   "cell_type": "markdown",
   "metadata": {
    "colab_type": "text",
    "id": "Z_LTBtfMBvW_"
   },
   "source": [
    "# Homework 5: Convolutional neural network (30 points)\n"
   ]
  },
  {
   "cell_type": "markdown",
   "metadata": {},
   "source": [
    "In this part, you need to implement and train a convolutional neural network on the CIFAR-10 dataset with PyTorch.\n",
    "### What is PyTorch?\n",
    "\n",
    "PyTorch is a system for executing dynamic computational graphs over Tensor objects that behave similarly as numpy ndarray. It comes with a powerful automatic differentiation engine that removes the need for manual back-propagation. \n",
    "\n",
    "### Why?\n",
    "\n",
    "* Our code will now run on GPUs! Much faster training. When using a framework like PyTorch or TensorFlow you can harness the power of the GPU for your own custom neural network architectures without having to write CUDA code directly (which is beyond the scope of this class).\n",
    "* We want you to be ready to use one of these frameworks for your project so you can experiment more efficiently than if you were writing every feature you want to use by hand. \n",
    "* We want you to stand on the shoulders of giants! TensorFlow and PyTorch are both excellent frameworks that will make your lives a lot easier, and now that you understand their guts, you are free to use them :) \n",
    "* We want you to be exposed to the sort of deep learning code you might run into in academia or industry.\n",
    "## How can I learn PyTorch?\n",
    "\n",
    "Justin Johnson has made an excellent [tutorial](https://github.com/jcjohnson/pytorch-examples) for PyTorch. \n",
    "\n",
    "You can also find the detailed [API doc](http://pytorch.org/docs/stable/index.html) here. If you have other questions that are not addressed by the API docs, the [PyTorch forum](https://discuss.pytorch.org/) is a much better place to ask than StackOverflow."
   ]
  },
  {
   "cell_type": "markdown",
   "metadata": {
    "colab_type": "text",
    "id": "T33dD1e8tii2"
   },
   "source": [
    "Install PyTorch and Skorch."
   ]
  },
  {
   "cell_type": "code",
   "execution_count": 1,
   "metadata": {
    "colab": {
     "base_uri": "https://localhost:8080/",
     "height": 72
    },
    "colab_type": "code",
    "id": "3l_Dl6qxCXmv",
    "outputId": "c0bbb1f4-081a-464e-bf46-a34c2767e83a"
   },
   "outputs": [],
   "source": [
    "import torch\n",
    "import torch.nn as nn\n",
    "import torch.nn.functional as F\n",
    "import torch.optim as optim\n",
    "import torchvision\n",
    "import torchvision.transforms as transforms\n",
    "import skorch\n",
    "import sklearn\n",
    "import numpy as np\n",
    "import matplotlib.pyplot as plt\n",
    "import pandas as pd\n"
   ]
  },
  {
   "cell_type": "markdown",
   "metadata": {
    "colab_type": "text",
    "id": "uevQtU7NtZ_-"
   },
   "source": [
    "## 0. Tensor Operations (5 points)\n",
    "\n",
    "Tensor operations are important in deep learning models. In this part, you are required to get famaliar to some common tensor operations in PyTorch."
   ]
  },
  {
   "cell_type": "markdown",
   "metadata": {
    "colab_type": "text",
    "id": "5DeQOItkeQCx"
   },
   "source": [
    "### 1) Tensor squeezing, unsqueezing and viewing"
   ]
  },
  {
   "cell_type": "markdown",
   "metadata": {
    "colab_type": "text",
    "id": "pAOmBE5ODwpP"
   },
   "source": [
    "Tensor squeezing, unsqueezing and viewing are important methods to change the dimension of a Tensor, and the corresponding functions are [torch.squeeze](https://pytorch.org/docs/stable/torch.html#torch.squeeze), [torch.unsqueeze](https://pytorch.org/docs/stable/torch.html#torch.unsqueeze) and [torch.Tensor.view](https://pytorch.org/docs/stable/tensors.html#torch.Tensor.view). Please read the documents of the functions, and finish the following practice."
   ]
  },
  {
   "cell_type": "code",
   "execution_count": 2,
   "metadata": {
    "colab": {
     "base_uri": "https://localhost:8080/",
     "height": 70
    },
    "colab_type": "code",
    "id": "hVrM80YxFSjb",
    "outputId": "933f2576-b413-4516-a3f8-5fa4fbe60b38"
   },
   "outputs": [
    {
     "name": "stdout",
     "output_type": "stream",
     "text": [
      "torch.Size([3, 1, 2, 1])\n",
      "torch.Size([3, 2])\n",
      "torch.Size([6])\n"
     ]
    }
   ],
   "source": [
    "# x is a tensor with size being (3, 2)\n",
    "x = torch.Tensor([[1, 2], \n",
    "                  [3, 4], \n",
    "                  [5, 6]])\n",
    "x.shape\n",
    "# Add two new dimensions to x by using the function torch.unsqueeze, so that the size of x becomes (3, 1, 2, 1).\n",
    "x = x.unsqueeze(1).unsqueeze(-1)\n",
    "print(x.shape)\n",
    "# Remove the two dimensions justed added by using the function torch.squeeze, and change the size of x back to (3, 2).\n",
    "x = x.squeeze(1).squeeze(-1)\n",
    "print(x.shape)\n",
    "# x is now a two-dimensional tensor, or in other words a matrix. Now use the function torch.Tensor.view and change x to a one-dimensional vector with size being (6).\n",
    "x = x.view(6)\n",
    "print(x.shape)\n"
   ]
  },
  {
   "cell_type": "markdown",
   "metadata": {
    "colab_type": "text",
    "id": "liuR-U0wea0n"
   },
   "source": [
    "### 2) Tensor concatenation and stack"
   ]
  },
  {
   "cell_type": "markdown",
   "metadata": {
    "colab_type": "text",
    "id": "pkbnt6v8Bo-j"
   },
   "source": [
    "Tensor concatenation and stack are operations to combine small tensors into big tensors. The corresponding functions are [torch.cat](https://pytorch.org/docs/stable/torch.html#torch.cat) and [torch.stack](https://pytorch.org/docs/stable/torch.html#torch.stack). Please read the documents of the functions, and finish the following practice."
   ]
  },
  {
   "cell_type": "code",
   "execution_count": 3,
   "metadata": {
    "colab": {
     "base_uri": "https://localhost:8080/",
     "height": 70
    },
    "colab_type": "code",
    "id": "b9KqXu3Stfjh",
    "outputId": "97f17754-1e49-4a77-df8a-46a1200ea170"
   },
   "outputs": [
    {
     "name": "stdout",
     "output_type": "stream",
     "text": [
      "tensor([[1., 2.],\n",
      "        [3., 4.],\n",
      "        [5., 6.]])\n",
      "tensor([[-1., -2.],\n",
      "        [-3., -4.],\n",
      "        [-5., -6.]])\n"
     ]
    }
   ],
   "source": [
    "# x is a tensor with size being (3, 2)\n",
    "x = torch.Tensor([[1, 2], [3, 4], [5, 6]])\n",
    "\n",
    "# y is a tensor with size being (3, 2)\n",
    "y = torch.Tensor([[-1, -2], [-3, -4], [-5, -6]])\n",
    "\n",
    "# Our goal is to generate a tensor z with size as (2, 3, 2), and z[0,:,:] = x, z[1,:,:] = y.\n",
    "\n",
    "# Use torch.stack to generate such a z\n",
    "z = torch.stack([x,y])   ##stack can combine two tensor at the new dimentsion\n",
    "print(z[0,:,:])\n",
    "# Use torch.cat and torch.unsqueeze to generate such a z\n",
    "z = torch.cat([x.unsqueeze(0), y.unsqueeze(0)], dim=0)  ## by  adding a new dimension at the first dimension and combine two tensors at this dimentsion\n",
    "print(z[1,:,:])"
   ]
  },
  {
   "cell_type": "markdown",
   "metadata": {
    "colab_type": "text",
    "id": "WGw4eEo-eeHm"
   },
   "source": [
    "### 3) Tensor expansion"
   ]
  },
  {
   "cell_type": "markdown",
   "metadata": {
    "colab_type": "text",
    "id": "KAII9eJgJFK2"
   },
   "source": [
    "Tensor expansion is to expand a tensor into a larger tensor along singleton dimensions. The corresponding functions are [torch.Tensor.expand](https://pytorch.org/docs/stable/tensors.html#torch.Tensor.expand) and [torch.Tensor.expand_as](https://pytorch.org/docs/stable/tensors.html#torch.Tensor.expand_as). Please read the documents of the functions, and finish the following practice. "
   ]
  },
  {
   "cell_type": "code",
   "execution_count": 4,
   "metadata": {
    "colab": {
     "base_uri": "https://localhost:8080/",
     "height": 69
    },
    "colab_type": "code",
    "id": "sQbFte-AJzVL",
    "outputId": "0505d6ed-fcff-40b1-d373-2510a4deb373"
   },
   "outputs": [
    {
     "name": "stdout",
     "output_type": "stream",
     "text": [
      "torch.Size([1, 3])\n",
      "torch.Size([2, 3])\n"
     ]
    }
   ],
   "source": [
    "# x is a tensor with size being (3)\n",
    "x = torch.Tensor([1, 2, 3])\n",
    "\n",
    "# Our goal is to generate a tensor z with size (2, 3), so that z[0,:,:] = x, z[1,:,:] = x.\n",
    "\n",
    "# [TO DO]\n",
    "# Change the size of x into (1, 3) by using torch.unsqueeze.\n",
    "x = x.unsqueeze(0)  ##create a new dimentsion\n",
    "print(x.shape)\n",
    "\n",
    "# [TO DO]\n",
    "# Then expand the new tensor to the target tensor by using torch.Tensor.expand.\n",
    "z = x.expand(2, -1)    ## expand twice at the the first dimension and hold the orginal size \n",
    "print(z.shape)\n",
    "# print(z[0,:]) vertify the result\n",
    "# print(z[1,:])"
   ]
  },
  {
   "cell_type": "markdown",
   "metadata": {
    "colab_type": "text",
    "id": "0rFL_Shoef3m"
   },
   "source": [
    "### 4) Tensor reduction in a given dimension"
   ]
  },
  {
   "cell_type": "markdown",
   "metadata": {
    "colab_type": "text",
    "id": "fmEoJVw0LL9H"
   },
   "source": [
    "In deep learning, we often need to compute the mean/sum/max/min value in a given dimension of a tensor. Please read the document of [torch.mean](https://pytorch.org/docs/stable/torch.html#torch.mean), [torch.sum](https://pytorch.org/docs/stable/torch.html#torch.sum), [torch.max](https://pytorch.org/docs/stable/torch.html#torch.max), [torch.min](https://pytorch.org/docs/stable/torch.html#torch.min), [torch.topk](https://pytorch.org/docs/stable/torch.html#torch.topk), and finish the following practice."
   ]
  },
  {
   "cell_type": "code",
   "execution_count": 5,
   "metadata": {
    "colab": {
     "base_uri": "https://localhost:8080/",
     "height": 87
    },
    "colab_type": "code",
    "id": "A7dlZwe4MNxo",
    "outputId": "1148ec88-6f73-4cdc-8471-40d431ca429b"
   },
   "outputs": [
    {
     "name": "stdout",
     "output_type": "stream",
     "text": [
      "tensor(-0.2006)\n",
      "torch.Size([10])\n",
      "torch.Size([10])\n",
      "torch.Size([10])\n",
      "torch.Size([10, 5])\n"
     ]
    }
   ],
   "source": [
    "# x is a random tensor with size being (10, 50)\n",
    "x = torch.randn(10, 50)\n",
    "\n",
    "##for all these function we just need to handle with the first dimension\n",
    "# Compute the mean value for each row of x.\n",
    "# You need to generate a tensor x_mean of size (10), and x_mean[k, :] is the mean value of the k-th row of x.\n",
    "x_mean = torch.mean(x, dim=1)\n",
    "print(x_mean[3, ])\n",
    "\n",
    "# Compute the sum value for each row of x.\n",
    "# You need to generate a tensor x_sum of size (10).\n",
    "x_sum = torch.sum(x, dim=1)\n",
    "print(x_sum.shape)\n",
    "\n",
    "# Compute the max value for each row of x.\n",
    "# You need to generate a tensor x_max of size (10).\n",
    "x_max, _ = torch.max(x, dim=1)\n",
    "print(x_max.shape)\n",
    "\n",
    "# Compute the min value for each row of x.\n",
    "# You need to generate a tensor x_min of size (10).\n",
    "x_min, _ = torch.min(x, dim=1)\n",
    "print(x_min.shape)\n",
    "\n",
    "# Compute the top-5 values for each row of x.\n",
    "# You need to generate a tensor x_mean of size (10, 5), and x_top[k, :] is the top-5 values of each row in x.\n",
    "x_5top, _ = torch.topk(x, 5, dim=1)\n",
    "print(x_5top.shape)\n"
   ]
  },
  {
   "cell_type": "markdown",
   "metadata": {
    "colab_type": "text",
    "id": "I49qjiqHB9oa"
   },
   "source": [
    "## Convolutional Neural Networks\n",
    "\n"
   ]
  },
  {
   "cell_type": "markdown",
   "metadata": {
    "colab_type": "text",
    "id": "JePbG5pSt1xv"
   },
   "source": [
    "Implement a convolutional neural network for image classification on CIFAR-10 dataset.\n",
    "\n",
    "CIFAR-10 is an image dataset of 10 categories. Each image has a size of 32x32 pixels. The following code will download the dataset, and split it into `train` and `test`. For this question, we use the default validation split generated by Skorch."
   ]
  },
  {
   "cell_type": "code",
   "execution_count": 6,
   "metadata": {
    "colab": {
     "base_uri": "https://localhost:8080/",
     "height": 120,
     "referenced_widgets": [
      "310efd92386a4757a767d5204b08a865",
      "8346dadd8dcd437f9d0c73a8e86d4503",
      "87cad6ba7ef84d03a7f8c0cb37ec01ec",
      "b712d5d1ba464a378c00dbb2aec6dd8c",
      "0f3b4a3b037d47cb8ba1196d7dbd3b98",
      "3f3ef2c146bf4dd38424170b3090b055",
      "adbb9a799ba44a91b927b44d0c27e6d1",
      "44a89539615b4132a01ca7f5223ca281"
     ]
    },
    "colab_type": "code",
    "id": "sQxOUQ29BuMB",
    "outputId": "fe539e24-4cd1-42ef-8bda-9ec1a0accd54"
   },
   "outputs": [
    {
     "name": "stdout",
     "output_type": "stream",
     "text": [
      "Files already downloaded and verified\n",
      "Files already downloaded and verified\n"
     ]
    }
   ],
   "source": [
    "train = torchvision.datasets.CIFAR10(\"./data\", train=True, download=True)\n",
    "test = torchvision.datasets.CIFAR10(\"./data\", train=False, download=True)"
   ]
  },
  {
   "cell_type": "markdown",
   "metadata": {
    "colab_type": "text",
    "id": "ieBpiwMwi6wD"
   },
   "source": [
    "The following code visualizes some samples in the dataset. You may use it to debug your model if necessary."
   ]
  },
  {
   "cell_type": "code",
   "execution_count": 7,
   "metadata": {
    "colab": {
     "base_uri": "https://localhost:8080/",
     "height": 108
    },
    "colab_type": "code",
    "id": "cU5HrxybupyJ",
    "outputId": "c9568768-b950-40b7-c16a-9d21a0969075"
   },
   "outputs": [
    {
     "data": {
      "image/png": "[encoded data removed]",
      "text/plain": [
       "<Figure size 432x288 with 5 Axes>"
      ]
     },
     "metadata": {},
     "output_type": "display_data"
    }
   ],
   "source": [
    "def plot(data, labels=None, num_sample=5):\n",
    "  n = min(len(data), num_sample)\n",
    "  for i in range(n):\n",
    "    plt.subplot(1, n, i+1)\n",
    "    plt.imshow(data[i], cmap=\"gray\")\n",
    "    plt.xticks([])\n",
    "    plt.yticks([])\n",
    "    if labels is not None:\n",
    "      plt.title(labels[i])\n",
    "\n",
    "train.labels = [train.classes[target] for target in train.targets]\n",
    "plot(train.data, train.labels)"
   ]
  },
  {
   "cell_type": "markdown",
   "metadata": {
    "colab_type": "text",
    "id": "JwzKmdcuCv1D"
   },
   "source": [
    "### 1) Basic CNN implementation\n"
   ]
  },
  {
   "cell_type": "markdown",
   "metadata": {
    "colab_type": "text",
    "id": "TbEYo5WgjTtm"
   },
   "source": [
    "Consider a basic CNN model\n",
    "\n",
    "- It has 3 convolutional layers, followed by a linear layer.\n",
    "- Each convolutional layer has a kernel size of 3, a padding of 1.\n",
    "- ReLU activation is applied on every hidden layer.\n",
    "\n",
    "Please implement this model in the following section. The hyperparameters is then be tuned and you need to fill the results in the table."
   ]
  },
  {
   "cell_type": "markdown",
   "metadata": {
    "colab_type": "text",
    "id": "OZKyE2GUfL-Z"
   },
   "source": [
    "#### a) Implement convolutional layers (10 Points)"
   ]
  },
  {
   "cell_type": "markdown",
   "metadata": {
    "colab_type": "text",
    "id": "4P_aYytExtq9"
   },
   "source": [
    "Implement the initialization function and the forward function of the CNN."
   ]
  },
  {
   "cell_type": "code",
   "execution_count": 8,
   "metadata": {
    "colab": {},
    "colab_type": "code",
    "id": "sDmCKUD1LBFk"
   },
   "outputs": [],
   "source": [
    "class CNN(nn.Module):\n",
    "  def __init__(self, channels):\n",
    "    super(CNN, self).__init__()\n",
    "    # implement parameter definitions here\n",
    "    # *****START OF YOUR CODE (DO NOT DELETE/MODIFY THIS LINE)*****\n",
    "    ## 3（rgb three dimension） * 32 * 32 \n",
    "    self.conv1 = nn.Conv2d(3, channels, kernel_size=3, padding=1)         ##(3-1)/2 therefore the output size == input size\n",
    "    self.conv2 = nn.Conv2d(channels, channels, kernel_size=3, padding=1)  ##similar\n",
    "    self.conv3 = nn.Conv2d(channels, channels, kernel_size=3, padding=1)  ##similar\n",
    "    self.fc = nn.Linear(channels * 32 * 32, 10)                             ##10 category and 32 * 32 = 8 * 8  change the conv to fully linear\n",
    "    # *****END OF YOUR CODE (DO NOT DELETE/MODIFY THIS LINE)*****\n",
    "  def forward(self, images):\n",
    "    # implement the forward function here\n",
    "    # *****START OF YOUR CODE (DO NOT DELETE/MODIFY THIS LINE)*****\n",
    "    x = F.relu(self.conv1(images))\n",
    "    ##print(\"x_1\", x.shape)\n",
    "    x = F.relu(self.conv2(x))\n",
    "    ##print(\"x_3\", x.shape)\n",
    "    x = F.relu(self.conv3(x))\n",
    "    ##print(\"x_5\", x.shape)\n",
    "    x = x.view(x.size(0), -1)\n",
    "    ##print(\"x_6\", x.shape)\n",
    "    x = self.fc(x)\n",
    "    # *****END OF YOUR CODE (DO NOT DELETE/MODIFY THIS LINE)*****\n",
    "    return x ##inage after processing"
   ]
  },
  {
   "cell_type": "markdown",
   "metadata": {
    "colab_type": "text",
    "id": "E_YaASPpgRiL"
   },
   "source": [
    "#### b) Tune hyperparameters"
   ]
  },
  {
   "cell_type": "markdown",
   "metadata": {
    "colab_type": "text",
    "id": "ygMcDdpy6XWP"
   },
   "source": [
    "Train the CNN model on CIFAR-10 dataset. We can tune the number of channels, optimizer, learning rate and the number of epochs for best validation accuracy."
   ]
  },
  {
   "cell_type": "code",
   "execution_count": 14,
   "metadata": {
    "colab": {
     "base_uri": "https://localhost:8080/",
     "height": 1000
    },
    "colab_type": "code",
    "id": "JUaguxFA5xOp",
    "outputId": "e74d78b8-10c0-414a-93d4-128f8ca4b2fd"
   },
   "outputs": [
    {
     "name": "stdout",
     "output_type": "stream",
     "text": [
      "The channel was 128, the learning rate was 0.001 and the optimizer was <class 'torch.optim.sgd.SGD'>\n",
      "  epoch    train_loss    valid_acc    valid_loss      dur\n",
      "-------  ------------  -----------  ------------  -------\n",
      "      1        \u001b[36m2.2399\u001b[0m       \u001b[32m0.2403\u001b[0m        \u001b[35m2.1277\u001b[0m  18.6095\n",
      "      2        \u001b[36m2.0169\u001b[0m       \u001b[32m0.3126\u001b[0m        \u001b[35m1.9395\u001b[0m  18.4208\n",
      "      3        \u001b[36m1.9055\u001b[0m       \u001b[32m0.3410\u001b[0m        \u001b[35m1.8715\u001b[0m  18.5584\n",
      "      4        \u001b[36m1.8522\u001b[0m       \u001b[32m0.3574\u001b[0m        \u001b[35m1.8254\u001b[0m  18.6854\n",
      "      5        \u001b[36m1.8116\u001b[0m       \u001b[32m0.3726\u001b[0m        \u001b[35m1.7888\u001b[0m  18.6897\n",
      "      6        \u001b[36m1.7757\u001b[0m       \u001b[32m0.3842\u001b[0m        \u001b[35m1.7537\u001b[0m  18.6787\n",
      "      7        \u001b[36m1.7400\u001b[0m       \u001b[32m0.3984\u001b[0m        \u001b[35m1.7169\u001b[0m  18.5943\n",
      "      8        \u001b[36m1.7043\u001b[0m       \u001b[32m0.4136\u001b[0m        \u001b[35m1.6815\u001b[0m  18.5994\n",
      "      9        \u001b[36m1.6733\u001b[0m       \u001b[32m0.4230\u001b[0m        \u001b[35m1.6540\u001b[0m  18.6909\n",
      "     10        \u001b[36m1.6475\u001b[0m       \u001b[32m0.4293\u001b[0m        \u001b[35m1.6315\u001b[0m  18.7263\n",
      "     11        \u001b[36m1.6241\u001b[0m       \u001b[32m0.4372\u001b[0m        \u001b[35m1.6104\u001b[0m  18.7275\n",
      "     12        \u001b[36m1.6014\u001b[0m       \u001b[32m0.4433\u001b[0m        \u001b[35m1.5896\u001b[0m  18.6507\n",
      "     13        \u001b[36m1.5794\u001b[0m       \u001b[32m0.4504\u001b[0m        \u001b[35m1.5693\u001b[0m  18.7153\n",
      "     14        \u001b[36m1.5578\u001b[0m       \u001b[32m0.4556\u001b[0m        \u001b[35m1.5491\u001b[0m  18.8290\n",
      "     15        \u001b[36m1.5367\u001b[0m       \u001b[32m0.4618\u001b[0m        \u001b[35m1.5295\u001b[0m  20.0487\n",
      "     16        \u001b[36m1.5162\u001b[0m       \u001b[32m0.4682\u001b[0m        \u001b[35m1.5108\u001b[0m  21.2507\n",
      "     17        \u001b[36m1.4966\u001b[0m       \u001b[32m0.4742\u001b[0m        \u001b[35m1.4934\u001b[0m  20.7962\n",
      "     18        \u001b[36m1.4783\u001b[0m       \u001b[32m0.4805\u001b[0m        \u001b[35m1.4778\u001b[0m  21.1023\n",
      "     19        \u001b[36m1.4614\u001b[0m       \u001b[32m0.4844\u001b[0m        \u001b[35m1.4637\u001b[0m  20.5945\n",
      "     20        \u001b[36m1.4458\u001b[0m       \u001b[32m0.4870\u001b[0m        \u001b[35m1.4511\u001b[0m  20.8517\n",
      "     21        \u001b[36m1.4313\u001b[0m       \u001b[32m0.4912\u001b[0m        \u001b[35m1.4396\u001b[0m  20.8188\n",
      "     22        \u001b[36m1.4177\u001b[0m       \u001b[32m0.4957\u001b[0m        \u001b[35m1.4289\u001b[0m  21.5155\n",
      "     23        \u001b[36m1.4047\u001b[0m       \u001b[32m0.5009\u001b[0m        \u001b[35m1.4190\u001b[0m  20.9678\n",
      "     24        \u001b[36m1.3923\u001b[0m       \u001b[32m0.5039\u001b[0m        \u001b[35m1.4096\u001b[0m  20.3174\n",
      "     25        \u001b[36m1.3802\u001b[0m       \u001b[32m0.5059\u001b[0m        \u001b[35m1.4004\u001b[0m  19.9876\n",
      "The channel was 256, the learning rate was 0.001 and the optimizer was <class 'torch.optim.sgd.SGD'>\n",
      "  epoch    train_loss    valid_acc    valid_loss      dur\n",
      "-------  ------------  -----------  ------------  -------\n",
      "      1        \u001b[36m2.1865\u001b[0m       \u001b[32m0.2894\u001b[0m        \u001b[35m2.0090\u001b[0m  46.4651\n",
      "      2        \u001b[36m1.9291\u001b[0m       \u001b[32m0.3410\u001b[0m        \u001b[35m1.8726\u001b[0m  46.2999\n",
      "      3        \u001b[36m1.8414\u001b[0m       \u001b[32m0.3686\u001b[0m        \u001b[35m1.8028\u001b[0m  46.2855\n",
      "      4        \u001b[36m1.7802\u001b[0m       \u001b[32m0.3903\u001b[0m        \u001b[35m1.7431\u001b[0m  46.3463\n",
      "      5        \u001b[36m1.7259\u001b[0m       \u001b[32m0.4094\u001b[0m        \u001b[35m1.6908\u001b[0m  46.1758\n",
      "      6        \u001b[36m1.6823\u001b[0m       \u001b[32m0.4243\u001b[0m        \u001b[35m1.6525\u001b[0m  46.2304\n",
      "      7        \u001b[36m1.6468\u001b[0m       \u001b[32m0.4356\u001b[0m        \u001b[35m1.6215\u001b[0m  45.9749\n",
      "      8        \u001b[36m1.6152\u001b[0m       \u001b[32m0.4440\u001b[0m        \u001b[35m1.5934\u001b[0m  46.1057\n",
      "      9        \u001b[36m1.5856\u001b[0m       \u001b[32m0.4544\u001b[0m        \u001b[35m1.5663\u001b[0m  46.0297\n",
      "     10        \u001b[36m1.5570\u001b[0m       \u001b[32m0.4630\u001b[0m        \u001b[35m1.5399\u001b[0m  46.4607\n",
      "     11        \u001b[36m1.5292\u001b[0m       \u001b[32m0.4724\u001b[0m        \u001b[35m1.5145\u001b[0m  46.4947\n",
      "     12        \u001b[36m1.5028\u001b[0m       \u001b[32m0.4775\u001b[0m        \u001b[35m1.4908\u001b[0m  46.2510\n",
      "     13        \u001b[36m1.4781\u001b[0m       \u001b[32m0.4834\u001b[0m        \u001b[35m1.4697\u001b[0m  46.4695\n",
      "     14        \u001b[36m1.4555\u001b[0m       \u001b[32m0.4885\u001b[0m        \u001b[35m1.4516\u001b[0m  46.6212\n",
      "     15        \u001b[36m1.4351\u001b[0m       \u001b[32m0.4965\u001b[0m        \u001b[35m1.4361\u001b[0m  46.3131\n",
      "     16        \u001b[36m1.4165\u001b[0m       \u001b[32m0.4987\u001b[0m        \u001b[35m1.4228\u001b[0m  46.0942\n",
      "     17        \u001b[36m1.3992\u001b[0m       \u001b[32m0.5028\u001b[0m        \u001b[35m1.4106\u001b[0m  46.3514\n",
      "     18        \u001b[36m1.3828\u001b[0m       \u001b[32m0.5062\u001b[0m        \u001b[35m1.3988\u001b[0m  46.2562\n",
      "     19        \u001b[36m1.3668\u001b[0m       \u001b[32m0.5105\u001b[0m        \u001b[35m1.3872\u001b[0m  46.1185\n",
      "     20        \u001b[36m1.3509\u001b[0m       \u001b[32m0.5140\u001b[0m        \u001b[35m1.3756\u001b[0m  46.3177\n",
      "     21        \u001b[36m1.3348\u001b[0m       \u001b[32m0.5184\u001b[0m        \u001b[35m1.3636\u001b[0m  46.5221\n",
      "     22        \u001b[36m1.3183\u001b[0m       \u001b[32m0.5206\u001b[0m        \u001b[35m1.3510\u001b[0m  46.2589\n",
      "     23        \u001b[36m1.3015\u001b[0m       \u001b[32m0.5230\u001b[0m        \u001b[35m1.3380\u001b[0m  46.2995\n",
      "     24        \u001b[36m1.2846\u001b[0m       \u001b[32m0.5278\u001b[0m        \u001b[35m1.3246\u001b[0m  46.2082\n",
      "     25        \u001b[36m1.2679\u001b[0m       \u001b[32m0.5340\u001b[0m        \u001b[35m1.3119\u001b[0m  46.0610\n",
      "The channel was 64, the learning rate was 0.001 and the optimizer was <class 'torch.optim.sgd.SGD'>\n",
      "  epoch    train_loss    valid_acc    valid_loss      dur\n",
      "-------  ------------  -----------  ------------  -------\n",
      "      1        \u001b[36m2.2517\u001b[0m       \u001b[32m0.2394\u001b[0m        \u001b[35m2.1568\u001b[0m  11.9628\n",
      "      2        \u001b[36m2.0423\u001b[0m       \u001b[32m0.3037\u001b[0m        \u001b[35m1.9599\u001b[0m  11.8905\n",
      "      3        \u001b[36m1.9219\u001b[0m       \u001b[32m0.3342\u001b[0m        \u001b[35m1.8886\u001b[0m  11.4647\n",
      "      4        \u001b[36m1.8682\u001b[0m       \u001b[32m0.3512\u001b[0m        \u001b[35m1.8416\u001b[0m  11.8859\n",
      "      5        \u001b[36m1.8277\u001b[0m       \u001b[32m0.3666\u001b[0m        \u001b[35m1.8040\u001b[0m  11.7901\n",
      "      6        \u001b[36m1.7917\u001b[0m       \u001b[32m0.3801\u001b[0m        \u001b[35m1.7680\u001b[0m  11.5793\n",
      "      7        \u001b[36m1.7555\u001b[0m       \u001b[32m0.3935\u001b[0m        \u001b[35m1.7300\u001b[0m  11.5186\n",
      "      8        \u001b[36m1.7189\u001b[0m       \u001b[32m0.4076\u001b[0m        \u001b[35m1.6929\u001b[0m  12.1044\n",
      "      9        \u001b[36m1.6867\u001b[0m       \u001b[32m0.4184\u001b[0m        \u001b[35m1.6634\u001b[0m  11.6830\n",
      "     10        \u001b[36m1.6610\u001b[0m       \u001b[32m0.4282\u001b[0m        \u001b[35m1.6412\u001b[0m  11.9368\n",
      "     11        \u001b[36m1.6393\u001b[0m       \u001b[32m0.4360\u001b[0m        \u001b[35m1.6227\u001b[0m  11.8361\n",
      "     12        \u001b[36m1.6198\u001b[0m       \u001b[32m0.4411\u001b[0m        \u001b[35m1.6059\u001b[0m  11.7748\n",
      "     13        \u001b[36m1.6016\u001b[0m       \u001b[32m0.4431\u001b[0m        \u001b[35m1.5900\u001b[0m  12.2092\n",
      "     14        \u001b[36m1.5843\u001b[0m       \u001b[32m0.4474\u001b[0m        \u001b[35m1.5747\u001b[0m  11.2537\n",
      "     15        \u001b[36m1.5677\u001b[0m       \u001b[32m0.4530\u001b[0m        \u001b[35m1.5597\u001b[0m  11.3633\n",
      "     16        \u001b[36m1.5515\u001b[0m       \u001b[32m0.4579\u001b[0m        \u001b[35m1.5451\u001b[0m  11.4686\n",
      "     17        \u001b[36m1.5359\u001b[0m       \u001b[32m0.4629\u001b[0m        \u001b[35m1.5309\u001b[0m  11.2590\n",
      "     18        \u001b[36m1.5208\u001b[0m       \u001b[32m0.4690\u001b[0m        \u001b[35m1.5172\u001b[0m  13.5701\n",
      "     19        \u001b[36m1.5061\u001b[0m       \u001b[32m0.4740\u001b[0m        \u001b[35m1.5040\u001b[0m  12.8029\n",
      "     20        \u001b[36m1.4921\u001b[0m       \u001b[32m0.4770\u001b[0m        \u001b[35m1.4912\u001b[0m  12.2395\n",
      "     21        \u001b[36m1.4785\u001b[0m       \u001b[32m0.4822\u001b[0m        \u001b[35m1.4790\u001b[0m  12.6590\n",
      "     22        \u001b[36m1.4656\u001b[0m       \u001b[32m0.4873\u001b[0m        \u001b[35m1.4675\u001b[0m  11.2624\n",
      "     23        \u001b[36m1.4532\u001b[0m       \u001b[32m0.4912\u001b[0m        \u001b[35m1.4566\u001b[0m  12.2469\n",
      "     24        \u001b[36m1.4414\u001b[0m       \u001b[32m0.4947\u001b[0m        \u001b[35m1.4463\u001b[0m  12.3880\n",
      "     25        \u001b[36m1.4299\u001b[0m       \u001b[32m0.4977\u001b[0m        \u001b[35m1.4364\u001b[0m  11.7209\n",
      "The channel was 128, the learning rate was 0.001 and the optimizer was <class 'torch.optim.adam.Adam'>\n",
      "  epoch    train_loss    valid_acc    valid_loss      dur\n",
      "-------  ------------  -----------  ------------  -------\n",
      "      1        \u001b[36m1.5279\u001b[0m       \u001b[32m0.5524\u001b[0m        \u001b[35m1.2575\u001b[0m  20.5977\n",
      "      2        \u001b[36m1.1053\u001b[0m       \u001b[32m0.6123\u001b[0m        \u001b[35m1.1249\u001b[0m  20.9391\n",
      "      3        \u001b[36m0.8600\u001b[0m       \u001b[32m0.6126\u001b[0m        1.1712  20.7145\n",
      "      4        \u001b[36m0.6658\u001b[0m       0.6107        1.3269  20.3456\n",
      "      5        \u001b[36m0.5046\u001b[0m       0.6035        1.6251  20.9262\n",
      "      6        \u001b[36m0.3900\u001b[0m       0.5835        1.9546  20.6219\n",
      "Stopping since valid_loss has not improved in the last 5 epochs.\n",
      "The channel was 256, the learning rate was 0.001 and the optimizer was <class 'torch.optim.adam.Adam'>\n",
      "  epoch    train_loss    valid_acc    valid_loss      dur\n",
      "-------  ------------  -----------  ------------  -------\n",
      "      1        \u001b[36m1.7990\u001b[0m       \u001b[32m0.4695\u001b[0m        \u001b[35m1.4713\u001b[0m  45.9414\n",
      "      2        \u001b[36m1.3681\u001b[0m       \u001b[32m0.5541\u001b[0m        \u001b[35m1.2580\u001b[0m  45.9311\n",
      "      3        \u001b[36m1.1768\u001b[0m       \u001b[32m0.5901\u001b[0m        \u001b[35m1.1713\u001b[0m  46.2226\n",
      "      4        \u001b[36m0.9904\u001b[0m       \u001b[32m0.5943\u001b[0m        1.2516  46.6128\n",
      "      5        \u001b[36m0.8236\u001b[0m       0.5902        1.3511  47.5536\n",
      "      6        \u001b[36m0.6713\u001b[0m       0.5907        1.4911  45.7858\n",
      "      7        \u001b[36m0.5389\u001b[0m       0.5827        1.7100  46.3914\n",
      "Stopping since valid_loss has not improved in the last 5 epochs.\n",
      "The channel was 64, the learning rate was 0.001 and the optimizer was <class 'torch.optim.adam.Adam'>\n",
      "  epoch    train_loss    valid_acc    valid_loss      dur\n",
      "-------  ------------  -----------  ------------  -------\n",
      "      1        \u001b[36m1.5975\u001b[0m       \u001b[32m0.5346\u001b[0m        \u001b[35m1.3050\u001b[0m  13.3998\n",
      "      2        \u001b[36m1.2287\u001b[0m       \u001b[32m0.5880\u001b[0m        \u001b[35m1.1562\u001b[0m  14.1816\n",
      "      3        \u001b[36m1.0441\u001b[0m       \u001b[32m0.6175\u001b[0m        \u001b[35m1.1023\u001b[0m  12.9484\n",
      "      4        \u001b[36m0.9040\u001b[0m       \u001b[32m0.6218\u001b[0m        1.1584  15.0555\n",
      "      5        \u001b[36m0.7856\u001b[0m       0.6054        1.2771  13.3082\n",
      "      6        \u001b[36m0.6798\u001b[0m       0.6079        1.3680  13.3886\n",
      "      7        \u001b[36m0.5842\u001b[0m       0.5981        1.5500  13.3529\n",
      "Stopping since valid_loss has not improved in the last 5 epochs.\n"
     ]
    }
   ],
   "source": [
    "# implement hyperparameters, you can select and modify the hyperparameters by yourself here.\n",
    "\n",
    "##paras = [[torch.optim.SGD, 1e-3, 128],[torch.optim.Adam, 1e-3, 128],[torch.optim.Adam, 1e-3 ,256]]\n",
    "optimize = [torch.optim.SGD, torch.optim.Adam]\n",
    "learning_rate = 1e-3\n",
    "channel = [128, 256, 64]\n",
    "\n",
    "train_data_normalized = torch.Tensor(train.data/255)\n",
    "train_data_normalized = train_data_normalized.permute(0,3,1,2)\n",
    "\n",
    "for o in optimize: \n",
    "    for c in channel:\n",
    "      print(f'The channel was {c}, the learning rate was {learning_rate} and the optimizer was {str(o)}')\n",
    "      cnn = CNN(channels = c)\n",
    "      \n",
    "      model = skorch.NeuralNetClassifier(cnn, criterion=torch.nn.CrossEntropyLoss,\n",
    "                                   device=\"cuda\",\n",
    "                                   optimizer=o,\n",
    "                                  # optimizer__momentum=0.90,\n",
    "                                   lr=learning_rate,\n",
    "                                   max_epochs=25,\n",
    "                                   batch_size=64,\n",
    "                                   callbacks=[skorch.callbacks.EarlyStopping(lower_is_better=True)])\n",
    "      # implement input normalization & type cast here \n",
    "      model.fit(train_data_normalized, np.asarray(train.targets, dtype= np.int64))"
   ]
  },
  {
   "cell_type": "markdown",
   "metadata": {
    "colab_type": "text",
    "id": "w-EHKzozkRbD"
   },
   "source": [
    "Write down **validation accuracy** of your model under different hyperparameter settings. Note the validation set is automatically split by Skorch during `model.fit()`.\n",
    "\n",
    "\n",
    "| #channel for each layer \\ optimizer | SGD   | Adam  |\n",
    "|-------------------------------------|-------|-------|\n",
    "|                128                     |   0.5059    |    0.5835   |\n",
    "|                256                     |   0.5340    |   0.5827    |\n",
    "|                64                     |   0.4977    |   0.5981    |\n"
   ]
  },
  {
   "cell_type": "markdown",
   "metadata": {
    "colab_type": "text",
    "id": "go55LVSJd-vG"
   },
   "source": [
    "### 2) Full CNN implementation (10 points)"
   ]
  },
  {
   "cell_type": "markdown",
   "metadata": {
    "colab_type": "text",
    "id": "6G0eCj6OmOEE"
   },
   "source": [
    "Based on the CNN in the previous question, implement a full CNN model with max pooling layer.\n",
    "\n",
    "- Add a max pooling layer after each convolutional layer.\n",
    "- Each max pooling layer has a kernel size of 2 and a stride of 2.\n",
    "\n",
    "Please implement this model in the following section. The hyperparameters is then be tuned and fill the results in the table. You are also required to complete the questions."
   ]
  },
  {
   "cell_type": "markdown",
   "metadata": {
    "colab_type": "text",
    "id": "bMrKGlMQhCa0"
   },
   "source": [
    "#### a) Implement max pooling layers"
   ]
  },
  {
   "cell_type": "markdown",
   "metadata": {
    "colab_type": "text",
    "id": "g2INt6P3Myd1"
   },
   "source": [
    "Similar to the CNN implementation in previous question, implement max pooling layers."
   ]
  },
  {
   "cell_type": "code",
   "execution_count": 10,
   "metadata": {
    "colab": {},
    "colab_type": "code",
    "id": "DHu3Ic2dM1S9"
   },
   "outputs": [],
   "source": [
    "class CNN_MaxPool(nn.Module):\n",
    "  def __init__(self, channels):\n",
    "    super(CNN_MaxPool, self).__init__()\n",
    "    # implement parameter definitions here\n",
    "    # *****START OF YOUR CODE (DO NOT DELETE/MODIFY THIS LINE)*****\n",
    "    ## 3（rgb three dimension） * 32 * 32 \n",
    "    self.conv1 = nn.Conv2d(3, channels, kernel_size=3, padding=1)         ##(3-1)/2 therefore the output size == input size\n",
    "    self.conv2 = nn.Conv2d(channels, channels, kernel_size=3, padding=1)  ##similar\n",
    "    self.conv3 = nn.Conv2d(channels, channels, kernel_size=3, padding=1)  ##similar\n",
    "    self.fc = nn.Linear(channels * 4 * 4, 10)                             ##10 category and 32/4 * 32/4 = 8 * 8  change the conv to fully linear\n",
    "    # *****END OF YOUR CODE (DO NOT DELETE/MODIFY THIS LINE)*****\n",
    "  \n",
    "  def forward(self, images):\n",
    "    # implement the forward function here\n",
    "    # *****START OF YOUR CODE (DO NOT DELETE/MODIFY THIS LINE)*****\n",
    "    x = F.relu(self.conv1(images))\n",
    "    ##print(\"x_1\", x.shape)\n",
    "    x = F.max_pool2d(x, kernel_size=2, stride = 2)\n",
    "    ##print(\"x_2\", x.shape)\n",
    "    x = F.relu(self.conv2(x))\n",
    "    ##print(\"x_3\", x.shape)\n",
    "    x = F.max_pool2d(x, kernel_size=2, stride = 2)\n",
    "    ##print(\"x_4\", x.shape)\n",
    "    x = F.relu(self.conv3(x))\n",
    "    x = F.max_pool2d(x, kernel_size=2, stride = 2)\n",
    "    ##print(\"x_5\", x.shape)\n",
    "    x = x.view(x.size(0), -1)\n",
    "    ##print(\"x_6\", x.shape)\n",
    "    x = self.fc(x)\n",
    "    # *****END OF YOUR CODE (DO NOT DELETE/MODIFY THIS LINE)*****\n",
    "    return x ##inage after processing"
   ]
  },
  {
   "cell_type": "markdown",
   "metadata": {
    "colab_type": "text",
    "id": "-A6AEOoigq68"
   },
   "source": [
    "#### b) Tune hyperparameters"
   ]
  },
  {
   "cell_type": "markdown",
   "metadata": {
    "colab_type": "text",
    "id": "drH4MHSVNqwz"
   },
   "source": [
    "Based on the better optimizer found in the previous problem, we can tune the number of channels and learning rate for best validation accuracy."
   ]
  },
  {
   "cell_type": "code",
   "execution_count": 12,
   "metadata": {
    "colab": {
     "base_uri": "https://localhost:8080/",
     "height": 515
    },
    "colab_type": "code",
    "id": "7povzg-4Nhrr",
    "outputId": "edff26c7-6f98-49be-cac4-9e6ef53c83c7"
   },
   "outputs": [
    {
     "name": "stdout",
     "output_type": "stream",
     "text": [
      "The channel was 128, the learning rate was 0.001\n",
      "  epoch    train_loss    valid_acc    valid_loss     dur\n",
      "-------  ------------  -----------  ------------  ------\n",
      "      1        \u001b[36m1.6302\u001b[0m       \u001b[32m0.5116\u001b[0m        \u001b[35m1.3833\u001b[0m  6.8544\n",
      "      2        \u001b[36m1.2627\u001b[0m       \u001b[32m0.5905\u001b[0m        \u001b[35m1.1546\u001b[0m  6.6204\n",
      "      3        \u001b[36m1.0903\u001b[0m       \u001b[32m0.6371\u001b[0m        \u001b[35m1.0228\u001b[0m  6.6239\n",
      "      4        \u001b[36m0.9807\u001b[0m       \u001b[32m0.6520\u001b[0m        \u001b[35m0.9703\u001b[0m  6.6118\n",
      "      5        \u001b[36m0.9036\u001b[0m       \u001b[32m0.6672\u001b[0m        \u001b[35m0.9552\u001b[0m  6.7928\n",
      "      6        \u001b[36m0.8479\u001b[0m       \u001b[32m0.6753\u001b[0m        \u001b[35m0.9477\u001b[0m  6.6467\n",
      "      7        \u001b[36m0.8029\u001b[0m       0.6704        0.9713  6.6586\n",
      "      8        \u001b[36m0.7666\u001b[0m       \u001b[32m0.6775\u001b[0m        \u001b[35m0.9315\u001b[0m  6.6561\n",
      "      9        \u001b[36m0.7329\u001b[0m       \u001b[32m0.6874\u001b[0m        \u001b[35m0.9154\u001b[0m  6.6624\n",
      "     10        \u001b[36m0.7052\u001b[0m       \u001b[32m0.6929\u001b[0m        \u001b[35m0.9034\u001b[0m  6.6734\n",
      "     11        \u001b[36m0.6797\u001b[0m       \u001b[32m0.7030\u001b[0m        \u001b[35m0.8787\u001b[0m  6.6715\n",
      "     12        \u001b[36m0.6563\u001b[0m       \u001b[32m0.7043\u001b[0m        \u001b[35m0.8751\u001b[0m  6.6505\n",
      "     13        \u001b[36m0.6352\u001b[0m       \u001b[32m0.7102\u001b[0m        \u001b[35m0.8741\u001b[0m  6.6705\n",
      "     14        \u001b[36m0.6161\u001b[0m       0.7083        0.8801  6.6648\n",
      "     15        \u001b[36m0.5989\u001b[0m       0.7032        0.8967  6.6386\n",
      "     16        \u001b[36m0.5843\u001b[0m       0.6981        0.9185  6.6706\n",
      "     17        \u001b[36m0.5720\u001b[0m       0.7022        0.9346  6.6751\n",
      "Stopping since valid_loss has not improved in the last 5 epochs.\n",
      "The channel was 256, the learning rate was 0.001\n",
      "  epoch    train_loss    valid_acc    valid_loss      dur\n",
      "-------  ------------  -----------  ------------  -------\n",
      "      1        \u001b[36m1.5570\u001b[0m       \u001b[32m0.5630\u001b[0m        \u001b[35m1.2261\u001b[0m  15.3096\n",
      "      2        \u001b[36m1.1413\u001b[0m       \u001b[32m0.6396\u001b[0m        \u001b[35m1.0208\u001b[0m  15.3128\n",
      "      3        \u001b[36m0.9681\u001b[0m       \u001b[32m0.6682\u001b[0m        \u001b[35m0.9453\u001b[0m  15.3371\n",
      "      4        \u001b[36m0.8629\u001b[0m       \u001b[32m0.6898\u001b[0m        \u001b[35m0.8897\u001b[0m  15.3621\n",
      "      5        \u001b[36m0.7843\u001b[0m       \u001b[32m0.6953\u001b[0m        \u001b[35m0.8873\u001b[0m  15.3246\n",
      "      6        \u001b[36m0.7196\u001b[0m       \u001b[32m0.6979\u001b[0m        0.8989  15.3408\n",
      "      7        \u001b[36m0.6671\u001b[0m       0.6908        0.9296  15.3628\n",
      "      8        \u001b[36m0.6231\u001b[0m       \u001b[32m0.7050\u001b[0m        0.9051  15.3356\n",
      "      9        \u001b[36m0.5850\u001b[0m       \u001b[32m0.7120\u001b[0m        0.8980  15.3359\n",
      "Stopping since valid_loss has not improved in the last 5 epochs.\n",
      "The channel was 512, the learning rate was 0.001\n",
      "  epoch    train_loss    valid_acc    valid_loss      dur\n",
      "-------  ------------  -----------  ------------  -------\n",
      "      1        \u001b[36m1.5001\u001b[0m       \u001b[32m0.5907\u001b[0m        \u001b[35m1.1893\u001b[0m  37.0213\n",
      "      2        \u001b[36m1.0907\u001b[0m       \u001b[32m0.6525\u001b[0m        \u001b[35m0.9865\u001b[0m  37.0427\n",
      "      3        \u001b[36m0.9130\u001b[0m       \u001b[32m0.6784\u001b[0m        \u001b[35m0.9127\u001b[0m  37.0198\n",
      "      4        \u001b[36m0.7916\u001b[0m       \u001b[32m0.6939\u001b[0m        \u001b[35m0.8747\u001b[0m  37.0396\n",
      "      5        \u001b[36m0.7010\u001b[0m       \u001b[32m0.7024\u001b[0m        0.8819  37.0127\n",
      "      6        \u001b[36m0.6302\u001b[0m       0.6868        0.9553  37.0334\n",
      "      7        \u001b[36m0.5742\u001b[0m       0.6899        0.9898  37.0341\n",
      "      8        \u001b[36m0.5188\u001b[0m       0.6913        1.0638  37.0439\n",
      "Stopping since valid_loss has not improved in the last 5 epochs.\n"
     ]
    }
   ],
   "source": [
    "# implement hyperparameters, you can select and modify the hyperparameters by yourself here.\n",
    "learning_rate = 1e-3\n",
    "channel = [128, 256, 512]\n",
    "# Select the better optimizer by the result shown in the previous problem, you can select and modify it by yourself here.\n",
    "better_optimizer = torch.optim.Adam  \n",
    "\n",
    "train_data_normalized = torch.Tensor(train.data/255)\n",
    "train_data_normalized = train_data_normalized.permute(0,3,1,2)\n",
    "\n",
    "for c in channel:\n",
    "    print(f'The channel was {c}, the learning rate was {learning_rate}')\n",
    "\n",
    "    cnn = CNN_MaxPool(channels = c)\n",
    "    \n",
    "    model = skorch.NeuralNetClassifier(cnn, criterion=torch.nn.CrossEntropyLoss,\n",
    "                                  device=\"cuda\",\n",
    "                                  optimizer=better_optimizer,\n",
    "                                  lr=learning_rate,\n",
    "                                  max_epochs=25,\n",
    "                                  batch_size=64,\n",
    "                                  callbacks=[skorch.callbacks.EarlyStopping(lower_is_better=True)])\n",
    "    # implement input normalization & type cast here \n",
    "    model.fit(train_data_normalized, np.asarray(train.targets, dtype= np.int64))"
   ]
  },
  {
   "cell_type": "markdown",
   "metadata": {
    "colab_type": "text",
    "id": "H7Mu2ZZHoZU0"
   },
   "source": [
    "Write down the **validation accuracy** of the model under different hyperparameter settings.\n",
    "\n",
    "| #channel for each layer | validation accuracy \n",
    "|-------------------------|---------------------|\n",
    "|            128             |          0.7022           |\n",
    "|            256             |          0.7120           |\n",
    "|            512             |          0.6913           |"
   ]
  },
  {
   "cell_type": "markdown",
   "metadata": {
    "colab_type": "text",
    "id": "8UCaz8nWoWWS"
   },
   "source": [
    "For the best model you have, test it on the test set."
   ]
  },
  {
   "cell_type": "code",
   "execution_count": 16,
   "metadata": {
    "colab": {
     "base_uri": "https://localhost:8080/",
     "height": 35
    },
    "colab_type": "code",
    "id": "bTtBk22OECDD",
    "outputId": "40229a37-f53c-4837-de75-8a63b3f66889"
   },
   "outputs": [
    {
     "data": {
      "text/plain": [
       "0.7041"
      ]
     },
     "execution_count": 16,
     "metadata": {},
     "output_type": "execute_result"
    }
   ],
   "source": [
    "# implement the same input normalization & type cast here\n",
    "\n",
    "##define the best model parameters to train again and get the test accuracy\n",
    "train_data_normalized = torch.Tensor(train.data/255)\n",
    "train_data_normalized = train_data_normalized.permute(0,3,1,2)\n",
    "cnn = CNN_MaxPool(channels = 256)\n",
    "model = skorch.NeuralNetClassifier(cnn, criterion=torch.nn.CrossEntropyLoss,\n",
    "                                  device=\"cuda\",\n",
    "                                  optimizer=torch.optim.Adam ,\n",
    "                                  lr=1e-3,\n",
    "                                  max_epochs=25,\n",
    "                                  batch_size=64,\n",
    "                                  callbacks=[skorch.callbacks.EarlyStopping(lower_is_better=True)],verbose = False)\n",
    "# implement input normalization & type cast here \n",
    "model.fit(train_data_normalized, np.asarray(train.targets,dtype= np.int64))\n",
    "test_data_normalized = torch.Tensor(test.data/255) \n",
    "test_data_normalized = test_data_normalized.permute(0,3,1,2)\n",
    "test.predictions = model.predict(test_data_normalized)\n",
    "sklearn.metrics.accuracy_score(test.targets, test.predictions)"
   ]
  },
  {
   "cell_type": "markdown",
   "metadata": {
    "colab_type": "text",
    "id": "kSbhC8f1or6_"
   },
   "source": [
    "How much **test accuracy** do you get? What can you conclude for the design of CNN structure and tuning of hyperparameters? (5 points)\n",
    "\n",
    "**Your Answer:** The test accuracy I get is 0.7041.  \n",
    "The conclusions in this hw I get are as follows.  \n",
    "Using pooling layer in the CNN process can help training CNN model to be faster and better.\n",
    "And when tuning of hyperparameters, set `optimizer=torch.optim.Adam` in the model setting can have a better model.  \n",
    "Having more channels for each layer can have a more complex model to get a better performace with longer training time but too much channels may lead to overfitting problem and then lead to a worse validation accuracy.  \n"
   ]
  }
 ],
 "metadata": {
  "accelerator": "GPU",
  "colab": {
   "collapsed_sections": [],
   "include_colab_link": true,
   "machine_shape": "hm",
   "name": "Adrien Hernandez Homework 1 - PyTorch",
   "provenance": []
  },
  "kernelspec": {
   "display_name": "Python 3 (ipykernel)",
   "language": "python",
   "name": "python3"
  },
  "language_info": {
   "codemirror_mode": {
    "name": "ipython",
    "version": 3
   },
   "file_extension": ".py",
   "mimetype": "text/x-python",
   "name": "python",
   "nbconvert_exporter": "python",
   "pygments_lexer": "ipython3",
   "version": "3.9.12"
  },
  "toc": {
   "base_numbering": 1,
   "nav_menu": {},
   "number_sections": true,
   "sideBar": true,
   "skip_h1_title": false,
   "title_cell": "Table of Contents",
   "title_sidebar": "Contents",
   "toc_cell": false,
   "toc_position": {},
   "toc_section_display": true,
   "toc_window_display": false
  },
  "widgets": {
   "application/vnd.jupyter.widget-state+json": {
    "0f3b4a3b037d47cb8ba1196d7dbd3b98": {
     "model_module": "@jupyter-widgets/controls",
     "model_name": "ProgressStyleModel",
     "state": {
      "_model_module": "@jupyter-widgets/controls",
      "_model_module_version": "1.5.0",
      "_model_name": "ProgressStyleModel",
      "_view_count": null,
      "_view_module": "@jupyter-widgets/base",
      "_view_module_version": "1.2.0",
      "_view_name": "StyleView",
      "bar_color": null,
      "description_width": ""
     }
    },
    "310efd92386a4757a767d5204b08a865": {
     "model_module": "@jupyter-widgets/controls",
     "model_name": "HBoxModel",
     "state": {
      "_dom_classes": [],
      "_model_module": "@jupyter-widgets/controls",
      "_model_module_version": "1.5.0",
      "_model_name": "HBoxModel",
      "_view_count": null,
      "_view_module": "@jupyter-widgets/controls",
      "_view_module_version": "1.5.0",
      "_view_name": "HBoxView",
      "box_style": "",
      "children": [
       "IPY_MODEL_87cad6ba7ef84d03a7f8c0cb37ec01ec",
       "IPY_MODEL_b712d5d1ba464a378c00dbb2aec6dd8c"
      ],
      "layout": "IPY_MODEL_8346dadd8dcd437f9d0c73a8e86d4503"
     }
    },
    "3f3ef2c146bf4dd38424170b3090b055": {
     "model_module": "@jupyter-widgets/base",
     "model_name": "LayoutModel",
     "state": {
      "_model_module": "@jupyter-widgets/base",
      "_model_module_version": "1.2.0",
      "_model_name": "LayoutModel",
      "_view_count": null,
      "_view_module": "@jupyter-widgets/base",
      "_view_module_version": "1.2.0",
      "_view_name": "LayoutView",
      "align_content": null,
      "align_items": null,
      "align_self": null,
      "border": null,
      "bottom": null,
      "display": null,
      "flex": null,
      "flex_flow": null,
      "grid_area": null,
      "grid_auto_columns": null,
      "grid_auto_flow": null,
      "grid_auto_rows": null,
      "grid_column": null,
      "grid_gap": null,
      "grid_row": null,
      "grid_template_areas": null,
      "grid_template_columns": null,
      "grid_template_rows": null,
      "height": null,
      "justify_content": null,
      "justify_items": null,
      "left": null,
      "margin": null,
      "max_height": null,
      "max_width": null,
      "min_height": null,
      "min_width": null,
      "object_fit": null,
      "object_position": null,
      "order": null,
      "overflow": null,
      "overflow_x": null,
      "overflow_y": null,
      "padding": null,
      "right": null,
      "top": null,
      "visibility": null,
      "width": null
     }
    },
    "44a89539615b4132a01ca7f5223ca281": {
     "model_module": "@jupyter-widgets/base",
     "model_name": "LayoutModel",
     "state": {
      "_model_module": "@jupyter-widgets/base",
      "_model_module_version": "1.2.0",
      "_model_name": "LayoutModel",
      "_view_count": null,
      "_view_module": "@jupyter-widgets/base",
      "_view_module_version": "1.2.0",
      "_view_name": "LayoutView",
      "align_content": null,
      "align_items": null,
      "align_self": null,
      "border": null,
      "bottom": null,
      "display": null,
      "flex": null,
      "flex_flow": null,
      "grid_area": null,
      "grid_auto_columns": null,
      "grid_auto_flow": null,
      "grid_auto_rows": null,
      "grid_column": null,
      "grid_gap": null,
      "grid_row": null,
      "grid_template_areas": null,
      "grid_template_columns": null,
      "grid_template_rows": null,
      "height": null,
      "justify_content": null,
      "justify_items": null,
      "left": null,
      "margin": null,
      "max_height": null,
      "max_width": null,
      "min_height": null,
      "min_width": null,
      "object_fit": null,
      "object_position": null,
      "order": null,
      "overflow": null,
      "overflow_x": null,
      "overflow_y": null,
      "padding": null,
      "right": null,
      "top": null,
      "visibility": null,
      "width": null
     }
    },
    "8346dadd8dcd437f9d0c73a8e86d4503": {
     "model_module": "@jupyter-widgets/base",
     "model_name": "LayoutModel",
     "state": {
      "_model_module": "@jupyter-widgets/base",
      "_model_module_version": "1.2.0",
      "_model_name": "LayoutModel",
      "_view_count": null,
      "_view_module": "@jupyter-widgets/base",
      "_view_module_version": "1.2.0",
      "_view_name": "LayoutView",
      "align_content": null,
      "align_items": null,
      "align_self": null,
      "border": null,
      "bottom": null,
      "display": null,
      "flex": null,
      "flex_flow": null,
      "grid_area": null,
      "grid_auto_columns": null,
      "grid_auto_flow": null,
      "grid_auto_rows": null,
      "grid_column": null,
      "grid_gap": null,
      "grid_row": null,
      "grid_template_areas": null,
      "grid_template_columns": null,
      "grid_template_rows": null,
      "height": null,
      "justify_content": null,
      "justify_items": null,
      "left": null,
      "margin": null,
      "max_height": null,
      "max_width": null,
      "min_height": null,
      "min_width": null,
      "object_fit": null,
      "object_position": null,
      "order": null,
      "overflow": null,
      "overflow_x": null,
      "overflow_y": null,
      "padding": null,
      "right": null,
      "top": null,
      "visibility": null,
      "width": null
     }
    },
    "87cad6ba7ef84d03a7f8c0cb37ec01ec": {
     "model_module": "@jupyter-widgets/controls",
     "model_name": "IntProgressModel",
     "state": {
      "_dom_classes": [],
      "_model_module": "@jupyter-widgets/controls",
      "_model_module_version": "1.5.0",
      "_model_name": "IntProgressModel",
      "_view_count": null,
      "_view_module": "@jupyter-widgets/controls",
      "_view_module_version": "1.5.0",
      "_view_name": "ProgressView",
      "bar_style": "success",
      "description": "",
      "description_tooltip": null,
      "layout": "IPY_MODEL_3f3ef2c146bf4dd38424170b3090b055",
      "max": 1,
      "min": 0,
      "orientation": "horizontal",
      "style": "IPY_MODEL_0f3b4a3b037d47cb8ba1196d7dbd3b98",
      "value": 1
     }
    },
    "adbb9a799ba44a91b927b44d0c27e6d1": {
     "model_module": "@jupyter-widgets/controls",
     "model_name": "DescriptionStyleModel",
     "state": {
      "_model_module": "@jupyter-widgets/controls",
      "_model_module_version": "1.5.0",
      "_model_name": "DescriptionStyleModel",
      "_view_count": null,
      "_view_module": "@jupyter-widgets/base",
      "_view_module_version": "1.2.0",
      "_view_name": "StyleView",
      "description_width": ""
     }
    },
    "b712d5d1ba464a378c00dbb2aec6dd8c": {
     "model_module": "@jupyter-widgets/controls",
     "model_name": "HTMLModel",
     "state": {
      "_dom_classes": [],
      "_model_module": "@jupyter-widgets/controls",
      "_model_module_version": "1.5.0",
      "_model_name": "HTMLModel",
      "_view_count": null,
      "_view_module": "@jupyter-widgets/controls",
      "_view_module_version": "1.5.0",
      "_view_name": "HTMLView",
      "description": "",
      "description_tooltip": null,
      "layout": "IPY_MODEL_44a89539615b4132a01ca7f5223ca281",
      "placeholder": "​",
      "style": "IPY_MODEL_adbb9a799ba44a91b927b44d0c27e6d1",
      "value": "170500096it [00:04, 37859309.77it/s]"
     }
    }
   }
  }
 },
 "nbformat": 4,
 "nbformat_minor": 1
}
